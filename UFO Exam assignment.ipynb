{
 "cells": [
  {
   "cell_type": "markdown",
   "id": "1a53dda2",
   "metadata": {},
   "source": [
    "# UFO Exam Assignment - Code Appendix\n",
    "\n",
    "- Allan Simonsen\n",
    "- Jean-Poul Leth-Møller\n",
    "- Nina Lisakowski\n",
    "\n",
    "This notebook is a part of an experiment for a research paper for the UFO exam.  \n",
    "The point of the notebook is to work with the iris dataset by training 3 different supervised and 3 different unsupervised algorithms."
   ]
  },
  {
   "cell_type": "code",
   "execution_count": 347,
   "id": "958531b0",
   "metadata": {},
   "outputs": [],
   "source": [
    "#The following libraries and modules are needed.\n",
    "\n",
    "# import pandas for structuring the data\n",
    "import pandas as pd\n",
    "\n",
    "#numpy for splitting the data\n",
    "import numpy as np\n",
    "\n",
    "#Iris data set import\n",
    "from sklearn.datasets import load_iris\n",
    "\n",
    "#Split method import\n",
    "from sklearn.model_selection import train_test_split\n",
    "\n",
    "#Import Naive Bayes\n",
    "from sklearn.naive_bayes import GaussianNB\n",
    "\n",
    "#Import DecisionTreeClassifier\n",
    "from sklearn.tree import DecisionTreeClassifier\n",
    "\n",
    "#Import Random Forest Classifier\n",
    "from sklearn.ensemble import RandomForestClassifier\n",
    "\n",
    "#Import for meanshift and bandwidth calculation\n",
    "from sklearn.cluster import  MeanShift, estimate_bandwidth\n",
    "\n",
    "#Import for DBSCAN\n",
    "from sklearn.cluster import DBSCAN\n",
    "\n",
    "#import for KMeans\n",
    "from sklearn.cluster import KMeans\n",
    "\n",
    "#Metrics and processing\n",
    "from sklearn import metrics\n",
    "from sklearn.metrics import confusion_matrix\n",
    "from sklearn.metrics import accuracy_score\n",
    "from sklearn.metrics import classification_report\n",
    "from sklearn import decomposition\n",
    "from sklearn import preprocessing\n",
    "from typing import List"
   ]
  },
  {
   "cell_type": "markdown",
   "id": "8966a104",
   "metadata": {},
   "source": [
    "## Iris data set import\n",
    "Import the iris dataset with labels. Consist of 4 different features and 3 labels"
   ]
  },
  {
   "cell_type": "code",
   "execution_count": 348,
   "id": "1abdf7ec",
   "metadata": {},
   "outputs": [
    {
     "data": {
      "text/html": [
       "<div>\n",
       "<style scoped>\n",
       "    .dataframe tbody tr th:only-of-type {\n",
       "        vertical-align: middle;\n",
       "    }\n",
       "\n",
       "    .dataframe tbody tr th {\n",
       "        vertical-align: top;\n",
       "    }\n",
       "\n",
       "    .dataframe thead th {\n",
       "        text-align: right;\n",
       "    }\n",
       "</style>\n",
       "<table border=\"1\" class=\"dataframe\">\n",
       "  <thead>\n",
       "    <tr style=\"text-align: right;\">\n",
       "      <th></th>\n",
       "      <th>Sepal_Length</th>\n",
       "      <th>Sepal_Width</th>\n",
       "      <th>Petal_Length</th>\n",
       "      <th>Petal_Width</th>\n",
       "      <th>Species</th>\n",
       "    </tr>\n",
       "  </thead>\n",
       "  <tbody>\n",
       "    <tr>\n",
       "      <th>0</th>\n",
       "      <td>5.1</td>\n",
       "      <td>3.5</td>\n",
       "      <td>1.4</td>\n",
       "      <td>0.2</td>\n",
       "      <td>Iris-setosa</td>\n",
       "    </tr>\n",
       "    <tr>\n",
       "      <th>1</th>\n",
       "      <td>4.9</td>\n",
       "      <td>3.0</td>\n",
       "      <td>1.4</td>\n",
       "      <td>0.2</td>\n",
       "      <td>Iris-setosa</td>\n",
       "    </tr>\n",
       "    <tr>\n",
       "      <th>2</th>\n",
       "      <td>4.7</td>\n",
       "      <td>3.2</td>\n",
       "      <td>1.3</td>\n",
       "      <td>0.2</td>\n",
       "      <td>Iris-setosa</td>\n",
       "    </tr>\n",
       "    <tr>\n",
       "      <th>3</th>\n",
       "      <td>4.6</td>\n",
       "      <td>3.1</td>\n",
       "      <td>1.5</td>\n",
       "      <td>0.2</td>\n",
       "      <td>Iris-setosa</td>\n",
       "    </tr>\n",
       "    <tr>\n",
       "      <th>4</th>\n",
       "      <td>5.0</td>\n",
       "      <td>3.6</td>\n",
       "      <td>1.4</td>\n",
       "      <td>0.2</td>\n",
       "      <td>Iris-setosa</td>\n",
       "    </tr>\n",
       "    <tr>\n",
       "      <th>5</th>\n",
       "      <td>5.4</td>\n",
       "      <td>3.9</td>\n",
       "      <td>1.7</td>\n",
       "      <td>0.4</td>\n",
       "      <td>Iris-setosa</td>\n",
       "    </tr>\n",
       "    <tr>\n",
       "      <th>6</th>\n",
       "      <td>4.6</td>\n",
       "      <td>3.4</td>\n",
       "      <td>1.4</td>\n",
       "      <td>0.3</td>\n",
       "      <td>Iris-setosa</td>\n",
       "    </tr>\n",
       "    <tr>\n",
       "      <th>7</th>\n",
       "      <td>5.0</td>\n",
       "      <td>3.4</td>\n",
       "      <td>1.5</td>\n",
       "      <td>0.2</td>\n",
       "      <td>Iris-setosa</td>\n",
       "    </tr>\n",
       "    <tr>\n",
       "      <th>8</th>\n",
       "      <td>4.4</td>\n",
       "      <td>2.9</td>\n",
       "      <td>1.4</td>\n",
       "      <td>0.2</td>\n",
       "      <td>Iris-setosa</td>\n",
       "    </tr>\n",
       "    <tr>\n",
       "      <th>9</th>\n",
       "      <td>4.9</td>\n",
       "      <td>3.1</td>\n",
       "      <td>1.5</td>\n",
       "      <td>0.1</td>\n",
       "      <td>Iris-setosa</td>\n",
       "    </tr>\n",
       "    <tr>\n",
       "      <th>10</th>\n",
       "      <td>5.4</td>\n",
       "      <td>3.7</td>\n",
       "      <td>1.5</td>\n",
       "      <td>0.2</td>\n",
       "      <td>Iris-setosa</td>\n",
       "    </tr>\n",
       "    <tr>\n",
       "      <th>11</th>\n",
       "      <td>4.8</td>\n",
       "      <td>3.4</td>\n",
       "      <td>1.6</td>\n",
       "      <td>0.2</td>\n",
       "      <td>Iris-setosa</td>\n",
       "    </tr>\n",
       "    <tr>\n",
       "      <th>12</th>\n",
       "      <td>4.8</td>\n",
       "      <td>3.0</td>\n",
       "      <td>1.4</td>\n",
       "      <td>0.1</td>\n",
       "      <td>Iris-setosa</td>\n",
       "    </tr>\n",
       "    <tr>\n",
       "      <th>13</th>\n",
       "      <td>4.3</td>\n",
       "      <td>3.0</td>\n",
       "      <td>1.1</td>\n",
       "      <td>0.1</td>\n",
       "      <td>Iris-setosa</td>\n",
       "    </tr>\n",
       "    <tr>\n",
       "      <th>14</th>\n",
       "      <td>5.8</td>\n",
       "      <td>4.0</td>\n",
       "      <td>1.2</td>\n",
       "      <td>0.2</td>\n",
       "      <td>Iris-setosa</td>\n",
       "    </tr>\n",
       "    <tr>\n",
       "      <th>15</th>\n",
       "      <td>5.7</td>\n",
       "      <td>4.4</td>\n",
       "      <td>1.5</td>\n",
       "      <td>0.4</td>\n",
       "      <td>Iris-setosa</td>\n",
       "    </tr>\n",
       "    <tr>\n",
       "      <th>16</th>\n",
       "      <td>5.4</td>\n",
       "      <td>3.9</td>\n",
       "      <td>1.3</td>\n",
       "      <td>0.4</td>\n",
       "      <td>Iris-setosa</td>\n",
       "    </tr>\n",
       "    <tr>\n",
       "      <th>17</th>\n",
       "      <td>5.1</td>\n",
       "      <td>3.5</td>\n",
       "      <td>1.4</td>\n",
       "      <td>0.3</td>\n",
       "      <td>Iris-setosa</td>\n",
       "    </tr>\n",
       "    <tr>\n",
       "      <th>18</th>\n",
       "      <td>5.7</td>\n",
       "      <td>3.8</td>\n",
       "      <td>1.7</td>\n",
       "      <td>0.3</td>\n",
       "      <td>Iris-setosa</td>\n",
       "    </tr>\n",
       "    <tr>\n",
       "      <th>19</th>\n",
       "      <td>5.1</td>\n",
       "      <td>3.8</td>\n",
       "      <td>1.5</td>\n",
       "      <td>0.3</td>\n",
       "      <td>Iris-setosa</td>\n",
       "    </tr>\n",
       "  </tbody>\n",
       "</table>\n",
       "</div>"
      ],
      "text/plain": [
       "    Sepal_Length  Sepal_Width  Petal_Length  Petal_Width      Species\n",
       "0            5.1          3.5           1.4          0.2  Iris-setosa\n",
       "1            4.9          3.0           1.4          0.2  Iris-setosa\n",
       "2            4.7          3.2           1.3          0.2  Iris-setosa\n",
       "3            4.6          3.1           1.5          0.2  Iris-setosa\n",
       "4            5.0          3.6           1.4          0.2  Iris-setosa\n",
       "5            5.4          3.9           1.7          0.4  Iris-setosa\n",
       "6            4.6          3.4           1.4          0.3  Iris-setosa\n",
       "7            5.0          3.4           1.5          0.2  Iris-setosa\n",
       "8            4.4          2.9           1.4          0.2  Iris-setosa\n",
       "9            4.9          3.1           1.5          0.1  Iris-setosa\n",
       "10           5.4          3.7           1.5          0.2  Iris-setosa\n",
       "11           4.8          3.4           1.6          0.2  Iris-setosa\n",
       "12           4.8          3.0           1.4          0.1  Iris-setosa\n",
       "13           4.3          3.0           1.1          0.1  Iris-setosa\n",
       "14           5.8          4.0           1.2          0.2  Iris-setosa\n",
       "15           5.7          4.4           1.5          0.4  Iris-setosa\n",
       "16           5.4          3.9           1.3          0.4  Iris-setosa\n",
       "17           5.1          3.5           1.4          0.3  Iris-setosa\n",
       "18           5.7          3.8           1.7          0.3  Iris-setosa\n",
       "19           5.1          3.8           1.5          0.3  Iris-setosa"
      ]
     },
     "execution_count": 348,
     "metadata": {},
     "output_type": "execute_result"
    }
   ],
   "source": [
    "csv_url = 'https://archive.ics.uci.edu/ml/machine-learning-databases/iris/iris.data'\n",
    "iris = pd.read_csv(csv_url, header = None)\n",
    "col_names = ['Sepal_Length','Sepal_Width','Petal_Length','Petal_Width','Species']\n",
    "iris =  pd.read_csv(csv_url, names = col_names)\n",
    "iris.head(20)"
   ]
  },
  {
   "cell_type": "code",
   "execution_count": 349,
   "id": "d1310e62",
   "metadata": {},
   "outputs": [
    {
     "data": {
      "text/plain": [
       "(150, 5)"
      ]
     },
     "execution_count": 349,
     "metadata": {},
     "output_type": "execute_result"
    }
   ],
   "source": [
    "iris.shape"
   ]
  },
  {
   "cell_type": "code",
   "execution_count": 350,
   "id": "9ed9bdac",
   "metadata": {},
   "outputs": [
    {
     "data": {
      "text/plain": [
       "array(['Iris-setosa', 'Iris-versicolor', 'Iris-virginica'], dtype=object)"
      ]
     },
     "execution_count": 350,
     "metadata": {},
     "output_type": "execute_result"
    }
   ],
   "source": [
    "iris['Species'].unique()"
   ]
  },
  {
   "cell_type": "markdown",
   "id": "912722df",
   "metadata": {},
   "source": [
    "# Preparing the dataset\n",
    "Splitting the dataset into training and test dataset, also encodes the labels into numbers so we can score the cluster models."
   ]
  },
  {
   "cell_type": "code",
   "execution_count": 309,
   "id": "9cb75d18",
   "metadata": {},
   "outputs": [],
   "source": [
    "y = iris.filter(['Species'], axis=1).values\n",
    "X = iris.filter(['Sepal_Length','Sepal_Width','Petal_Length','Petal_Width'], axis=1).values"
   ]
  },
  {
   "cell_type": "code",
   "execution_count": 310,
   "id": "ea56a278",
   "metadata": {},
   "outputs": [],
   "source": [
    "test_set_size = 0.2\n",
    "seed = 1\n",
    "X_train, X_test, y_train, y_test = train_test_split(X, y, test_size=test_set_size, random_state=seed, stratify=y)\n"
   ]
  },
  {
   "cell_type": "code",
   "execution_count": 311,
   "id": "836c1143",
   "metadata": {},
   "outputs": [
    {
     "data": {
      "text/plain": [
       "(30, 4)"
      ]
     },
     "execution_count": 311,
     "metadata": {},
     "output_type": "execute_result"
    }
   ],
   "source": [
    "X_test.shape"
   ]
  },
  {
   "cell_type": "code",
   "execution_count": 312,
   "id": "5d7e983b",
   "metadata": {},
   "outputs": [],
   "source": [
    "le = preprocessing.LabelEncoder()\n",
    "le.fit(['Iris-virginica', 'Iris-versicolor', 'Iris-setosa' ])\n",
    "y_train_transformed = le.transform(y_train.ravel())\n",
    "y_test_transformed = le.transform(y_test.ravel())"
   ]
  },
  {
   "cell_type": "markdown",
   "id": "4a58f00d",
   "metadata": {},
   "source": [
    "# Naive Bayes"
   ]
  },
  {
   "cell_type": "code",
   "execution_count": 313,
   "id": "3c08aaff",
   "metadata": {},
   "outputs": [
    {
     "data": {
      "text/plain": [
       "GaussianNB()"
      ]
     },
     "execution_count": 313,
     "metadata": {},
     "output_type": "execute_result"
    }
   ],
   "source": [
    "naive_model = GaussianNB()\n",
    "naive_model.fit(X_train, y_train.ravel())"
   ]
  },
  {
   "cell_type": "code",
   "execution_count": 314,
   "id": "bbe3bde5",
   "metadata": {},
   "outputs": [
    {
     "data": {
      "text/plain": [
       "0.9583333333333334"
      ]
     },
     "execution_count": 314,
     "metadata": {},
     "output_type": "execute_result"
    }
   ],
   "source": [
    "naive_model.score(X_train, y_train)"
   ]
  },
  {
   "cell_type": "code",
   "execution_count": 315,
   "id": "84f06372",
   "metadata": {},
   "outputs": [
    {
     "name": "stdout",
     "output_type": "stream",
     "text": [
      "[[40  0  0]\n",
      " [ 0 37  3]\n",
      " [ 0  2 38]]\n"
     ]
    }
   ],
   "source": [
    "prediction = naive_model.predict(X_train)\n",
    "print(confusion_matrix(y_train, prediction))"
   ]
  },
  {
   "cell_type": "code",
   "execution_count": 344,
   "id": "8b172f9d",
   "metadata": {},
   "outputs": [
    {
     "name": "stdout",
     "output_type": "stream",
     "text": [
      "0.9666666666666667\n"
     ]
    }
   ],
   "source": [
    "prediction = naive_model.predict(X_test)\n",
    "print(accuracy_score(y_test, prediction))"
   ]
  },
  {
   "cell_type": "code",
   "execution_count": 345,
   "id": "ebf030c8",
   "metadata": {},
   "outputs": [
    {
     "name": "stdout",
     "output_type": "stream",
     "text": [
      "[[10  0  0]\n",
      " [ 0 10  0]\n",
      " [ 0  1  9]]\n"
     ]
    }
   ],
   "source": [
    "print(confusion_matrix(y_test, prediction))"
   ]
  },
  {
   "cell_type": "code",
   "execution_count": 346,
   "id": "8b313ce7",
   "metadata": {},
   "outputs": [
    {
     "name": "stdout",
     "output_type": "stream",
     "text": [
      "                 precision    recall  f1-score   support\n",
      "\n",
      "    Iris-setosa       1.00      1.00      1.00        10\n",
      "Iris-versicolor       0.91      1.00      0.95        10\n",
      " Iris-virginica       1.00      0.90      0.95        10\n",
      "\n",
      "       accuracy                           0.97        30\n",
      "      macro avg       0.97      0.97      0.97        30\n",
      "   weighted avg       0.97      0.97      0.97        30\n",
      "\n"
     ]
    }
   ],
   "source": [
    "print(classification_report(y_test, prediction))"
   ]
  },
  {
   "cell_type": "markdown",
   "id": "a02c2b12",
   "metadata": {},
   "source": [
    "# Decision Tree"
   ]
  },
  {
   "cell_type": "code",
   "execution_count": 318,
   "id": "7ad7bb33",
   "metadata": {},
   "outputs": [
    {
     "data": {
      "text/plain": [
       "DecisionTreeClassifier()"
      ]
     },
     "execution_count": 318,
     "metadata": {},
     "output_type": "execute_result"
    }
   ],
   "source": [
    "tree_model = DecisionTreeClassifier()\n",
    "tree_model.fit(X_train, y_train.ravel())"
   ]
  },
  {
   "cell_type": "code",
   "execution_count": 319,
   "id": "b3a2b9c7",
   "metadata": {},
   "outputs": [
    {
     "data": {
      "text/plain": [
       "1.0"
      ]
     },
     "execution_count": 319,
     "metadata": {},
     "output_type": "execute_result"
    }
   ],
   "source": [
    "tree_model.score(X_train, y_train)"
   ]
  },
  {
   "cell_type": "code",
   "execution_count": 320,
   "id": "1870d185",
   "metadata": {},
   "outputs": [
    {
     "name": "stdout",
     "output_type": "stream",
     "text": [
      "[[40  0  0]\n",
      " [ 0 40  0]\n",
      " [ 0  0 40]]\n"
     ]
    }
   ],
   "source": [
    "prediction = tree_model.predict(X_train)\n",
    "print(confusion_matrix(y_train, prediction))"
   ]
  },
  {
   "cell_type": "code",
   "execution_count": 340,
   "id": "e534d13b",
   "metadata": {},
   "outputs": [
    {
     "name": "stdout",
     "output_type": "stream",
     "text": [
      "0.9666666666666667\n"
     ]
    }
   ],
   "source": [
    "prediction = tree_model.predict(X_test)\n",
    "print(accuracy_score(y_test, prediction))"
   ]
  },
  {
   "cell_type": "code",
   "execution_count": 341,
   "id": "e5ec8a35",
   "metadata": {},
   "outputs": [
    {
     "name": "stdout",
     "output_type": "stream",
     "text": [
      "[[10  0  0]\n",
      " [ 0 10  0]\n",
      " [ 0  1  9]]\n"
     ]
    }
   ],
   "source": [
    "print(confusion_matrix(y_test, prediction_tree))"
   ]
  },
  {
   "cell_type": "code",
   "execution_count": 342,
   "id": "21149955",
   "metadata": {},
   "outputs": [
    {
     "name": "stdout",
     "output_type": "stream",
     "text": [
      "                 precision    recall  f1-score   support\n",
      "\n",
      "    Iris-setosa       1.00      1.00      1.00        10\n",
      "Iris-versicolor       0.91      1.00      0.95        10\n",
      " Iris-virginica       1.00      0.90      0.95        10\n",
      "\n",
      "       accuracy                           0.97        30\n",
      "      macro avg       0.97      0.97      0.97        30\n",
      "   weighted avg       0.97      0.97      0.97        30\n",
      "\n"
     ]
    }
   ],
   "source": [
    "print(classification_report(y_test, prediction))"
   ]
  },
  {
   "cell_type": "markdown",
   "id": "f81cd4a3",
   "metadata": {},
   "source": [
    "# RandomForest"
   ]
  },
  {
   "cell_type": "code",
   "execution_count": 323,
   "id": "235212bd",
   "metadata": {},
   "outputs": [
    {
     "data": {
      "text/plain": [
       "RandomForestClassifier()"
      ]
     },
     "execution_count": 323,
     "metadata": {},
     "output_type": "execute_result"
    }
   ],
   "source": [
    "forest_model = RandomForestClassifier()\n",
    "forest_model.fit(X_train, y_train.ravel())"
   ]
  },
  {
   "cell_type": "code",
   "execution_count": 254,
   "id": "7c3aaf40",
   "metadata": {},
   "outputs": [
    {
     "data": {
      "text/plain": [
       "1.0"
      ]
     },
     "execution_count": 254,
     "metadata": {},
     "output_type": "execute_result"
    }
   ],
   "source": [
    "forest_model.score(X_train, y_train)"
   ]
  },
  {
   "cell_type": "code",
   "execution_count": 255,
   "id": "f9cee4a1",
   "metadata": {},
   "outputs": [
    {
     "name": "stdout",
     "output_type": "stream",
     "text": [
      "[[40  0  0]\n",
      " [ 0 40  0]\n",
      " [ 0  0 40]]\n"
     ]
    }
   ],
   "source": [
    "prediction = forest_model.predict(X_train)\n",
    "print(confusion_matrix(y_train, prediction))"
   ]
  },
  {
   "cell_type": "code",
   "execution_count": 337,
   "id": "302688c2",
   "metadata": {},
   "outputs": [
    {
     "name": "stdout",
     "output_type": "stream",
     "text": [
      "0.9666666666666667\n"
     ]
    }
   ],
   "source": [
    "prediction = forest_model.predict(X_test)\n",
    "print(accuracy_score(y_test, prediction))"
   ]
  },
  {
   "cell_type": "code",
   "execution_count": 338,
   "id": "b8ddb5d4",
   "metadata": {},
   "outputs": [
    {
     "name": "stdout",
     "output_type": "stream",
     "text": [
      "[[10  0  0]\n",
      " [ 0 10  0]\n",
      " [ 0  1  9]]\n"
     ]
    }
   ],
   "source": [
    "print(confusion_matrix(y_test, prediction))"
   ]
  },
  {
   "cell_type": "code",
   "execution_count": 339,
   "id": "7f9c17fd",
   "metadata": {},
   "outputs": [
    {
     "name": "stdout",
     "output_type": "stream",
     "text": [
      "                 precision    recall  f1-score   support\n",
      "\n",
      "    Iris-setosa       1.00      1.00      1.00        10\n",
      "Iris-versicolor       0.91      1.00      0.95        10\n",
      " Iris-virginica       1.00      0.90      0.95        10\n",
      "\n",
      "       accuracy                           0.97        30\n",
      "      macro avg       0.97      0.97      0.97        30\n",
      "   weighted avg       0.97      0.97      0.97        30\n",
      "\n"
     ]
    }
   ],
   "source": [
    "print(classification_report(y_test, prediction))"
   ]
  },
  {
   "cell_type": "markdown",
   "id": "96a0b8d9",
   "metadata": {},
   "source": [
    "# Meanshift"
   ]
  },
  {
   "cell_type": "code",
   "execution_count": 382,
   "id": "1abddc58",
   "metadata": {},
   "outputs": [
    {
     "data": {
      "text/plain": [
       "0.8989162948462586"
      ]
     },
     "execution_count": 382,
     "metadata": {},
     "output_type": "execute_result"
    }
   ],
   "source": [
    "bandwidth = estimate_bandwidth(X_train, quantile=0.2, n_samples=300)\n",
    "bandwidth"
   ]
  },
  {
   "cell_type": "code",
   "execution_count": 383,
   "id": "31c92403",
   "metadata": {},
   "outputs": [
    {
     "data": {
      "text/plain": [
       "3"
      ]
     },
     "execution_count": 383,
     "metadata": {},
     "output_type": "execute_result"
    }
   ],
   "source": [
    "msmodel = MeanShift(bandwidth=bandwidth, bin_seeding=True)\n",
    "msmodel.fit(X_train)\n",
    "labels = msmodel.labels_\n",
    "labels_unique = np.unique(labels)\n",
    "n_clusters_ = len(labels_unique)\n",
    "n_clusters_"
   ]
  },
  {
   "cell_type": "markdown",
   "id": "52476ce7",
   "metadata": {},
   "source": [
    "Good sign that it found 3 clusters"
   ]
  },
  {
   "cell_type": "code",
   "execution_count": 384,
   "id": "2e9d2c9e",
   "metadata": {},
   "outputs": [
    {
     "name": "stdout",
     "output_type": "stream",
     "text": [
      "0.13333333333333333\n"
     ]
    }
   ],
   "source": [
    "prediction = msmodel.predict(X_train)\n",
    "print(accuracy_score(y_train_transformed, prediction))"
   ]
  },
  {
   "cell_type": "code",
   "execution_count": 385,
   "id": "203b9280",
   "metadata": {},
   "outputs": [
    {
     "name": "stdout",
     "output_type": "stream",
     "text": [
      "[[ 0 40  0]\n",
      " [40  0  0]\n",
      " [24  0 16]]\n"
     ]
    }
   ],
   "source": [
    "print(confusion_matrix(y_train_transformed, prediction))"
   ]
  },
  {
   "cell_type": "code",
   "execution_count": 386,
   "id": "13ddcef3",
   "metadata": {},
   "outputs": [
    {
     "name": "stdout",
     "output_type": "stream",
     "text": [
      "0.13333333333333333\n"
     ]
    }
   ],
   "source": [
    "prediction = msmodel.predict(X_test)\n",
    "print(accuracy_score(y_test_transformed, prediction))"
   ]
  },
  {
   "cell_type": "code",
   "execution_count": 387,
   "id": "b01465c6",
   "metadata": {},
   "outputs": [
    {
     "name": "stdout",
     "output_type": "stream",
     "text": [
      "[[ 0 10  0]\n",
      " [ 8  2  0]\n",
      " [ 8  0  2]]\n"
     ]
    }
   ],
   "source": [
    "print(confusion_matrix(y_test_transformed, prediction))"
   ]
  },
  {
   "cell_type": "code",
   "execution_count": 336,
   "id": "3cf78846",
   "metadata": {},
   "outputs": [
    {
     "name": "stdout",
     "output_type": "stream",
     "text": [
      "              precision    recall  f1-score   support\n",
      "\n",
      "           0       0.00      0.00      0.00        10\n",
      "           1       0.17      0.20      0.18        10\n",
      "           2       1.00      0.20      0.33        10\n",
      "\n",
      "    accuracy                           0.13        30\n",
      "   macro avg       0.39      0.13      0.17        30\n",
      "weighted avg       0.39      0.13      0.17        30\n",
      "\n"
     ]
    }
   ],
   "source": [
    "print(classification_report(y_test_transformed, prediction))"
   ]
  },
  {
   "cell_type": "markdown",
   "id": "30f0161c",
   "metadata": {},
   "source": [
    "# DBScan"
   ]
  },
  {
   "cell_type": "code",
   "execution_count": 264,
   "id": "04a42c40",
   "metadata": {},
   "outputs": [
    {
     "data": {
      "text/plain": [
       "3"
      ]
     },
     "execution_count": 264,
     "metadata": {},
     "output_type": "execute_result"
    }
   ],
   "source": [
    "db = DBSCAN(eps=0.3, min_samples=5).fit(X_train)\n",
    "labels = db.labels_\n",
    "labels_unique = np.unique(labels)\n",
    "n_clusters_ = len(labels_unique)\n",
    "n_clusters_"
   ]
  },
  {
   "cell_type": "code",
   "execution_count": 265,
   "id": "8024c060",
   "metadata": {},
   "outputs": [],
   "source": [
    "#https://stackoverflow.com/a/51516334/17384594\n",
    "def dbscan_predict(model, X):\n",
    "\n",
    "    nr_samples = X.shape[0]\n",
    "\n",
    "    y_new = np.ones(shape=nr_samples, dtype=int) * -1\n",
    "\n",
    "    for i in range(nr_samples):\n",
    "        diff = model.components_ - X[i, :]  # NumPy broadcasting\n",
    "\n",
    "        dist = np.linalg.norm(diff, axis=1)  # Euclidean distance\n",
    "\n",
    "        shortest_dist_idx = np.argmin(dist)\n",
    "\n",
    "        if dist[shortest_dist_idx] < model.eps:\n",
    "            y_new[i] = model.labels_[model.core_sample_indices_[shortest_dist_idx]]\n",
    "\n",
    "    return y_new"
   ]
  },
  {
   "cell_type": "code",
   "execution_count": 266,
   "id": "091ffcd9",
   "metadata": {},
   "outputs": [
    {
     "name": "stdout",
     "output_type": "stream",
     "text": [
      "0.3416666666666667\n"
     ]
    }
   ],
   "source": [
    "prediction = dbscan_predict(db, X_train)\n",
    "print(accuracy_score(y_train_transformed, prediction))"
   ]
  },
  {
   "cell_type": "code",
   "execution_count": 267,
   "id": "d440ec06",
   "metadata": {},
   "outputs": [
    {
     "name": "stdout",
     "output_type": "stream",
     "text": [
      "[[ 0  0  0  0]\n",
      " [11 29  0  0]\n",
      " [28  0 12  0]\n",
      " [40  0  0  0]]\n"
     ]
    }
   ],
   "source": [
    "print(confusion_matrix(y_train_transformed, prediction))"
   ]
  },
  {
   "cell_type": "code",
   "execution_count": 331,
   "id": "05eeaecf",
   "metadata": {},
   "outputs": [
    {
     "name": "stdout",
     "output_type": "stream",
     "text": [
      "0.23333333333333334\n"
     ]
    }
   ],
   "source": [
    "prediction = dbscan_predict(db, X_test)\n",
    "print(accuracy_score(y_test_transformed, prediction))"
   ]
  },
  {
   "cell_type": "code",
   "execution_count": 332,
   "id": "b6c9652c",
   "metadata": {},
   "outputs": [
    {
     "name": "stdout",
     "output_type": "stream",
     "text": [
      "[[ 0  0  0  0]\n",
      " [ 3  7  0  0]\n",
      " [10  0  0  0]\n",
      " [10  0  0  0]]\n"
     ]
    }
   ],
   "source": [
    "print(confusion_matrix(y_test_transformed, prediction))"
   ]
  },
  {
   "cell_type": "code",
   "execution_count": 333,
   "id": "f0c67ca7",
   "metadata": {},
   "outputs": [
    {
     "name": "stdout",
     "output_type": "stream",
     "text": [
      "              precision    recall  f1-score   support\n",
      "\n",
      "          -1       0.00      0.00      0.00         0\n",
      "           0       1.00      0.70      0.82        10\n",
      "           1       0.00      0.00      0.00        10\n",
      "           2       0.00      0.00      0.00        10\n",
      "\n",
      "    accuracy                           0.23        30\n",
      "   macro avg       0.25      0.17      0.21        30\n",
      "weighted avg       0.33      0.23      0.27        30\n",
      "\n"
     ]
    },
    {
     "name": "stderr",
     "output_type": "stream",
     "text": [
      "C:\\Users\\allan\\anaconda3\\lib\\site-packages\\sklearn\\metrics\\_classification.py:1248: UndefinedMetricWarning: Precision and F-score are ill-defined and being set to 0.0 in labels with no predicted samples. Use `zero_division` parameter to control this behavior.\n",
      "  _warn_prf(average, modifier, msg_start, len(result))\n",
      "C:\\Users\\allan\\anaconda3\\lib\\site-packages\\sklearn\\metrics\\_classification.py:1248: UndefinedMetricWarning: Recall and F-score are ill-defined and being set to 0.0 in labels with no true samples. Use `zero_division` parameter to control this behavior.\n",
      "  _warn_prf(average, modifier, msg_start, len(result))\n",
      "C:\\Users\\allan\\anaconda3\\lib\\site-packages\\sklearn\\metrics\\_classification.py:1248: UndefinedMetricWarning: Precision and F-score are ill-defined and being set to 0.0 in labels with no predicted samples. Use `zero_division` parameter to control this behavior.\n",
      "  _warn_prf(average, modifier, msg_start, len(result))\n",
      "C:\\Users\\allan\\anaconda3\\lib\\site-packages\\sklearn\\metrics\\_classification.py:1248: UndefinedMetricWarning: Recall and F-score are ill-defined and being set to 0.0 in labels with no true samples. Use `zero_division` parameter to control this behavior.\n",
      "  _warn_prf(average, modifier, msg_start, len(result))\n",
      "C:\\Users\\allan\\anaconda3\\lib\\site-packages\\sklearn\\metrics\\_classification.py:1248: UndefinedMetricWarning: Precision and F-score are ill-defined and being set to 0.0 in labels with no predicted samples. Use `zero_division` parameter to control this behavior.\n",
      "  _warn_prf(average, modifier, msg_start, len(result))\n",
      "C:\\Users\\allan\\anaconda3\\lib\\site-packages\\sklearn\\metrics\\_classification.py:1248: UndefinedMetricWarning: Recall and F-score are ill-defined and being set to 0.0 in labels with no true samples. Use `zero_division` parameter to control this behavior.\n",
      "  _warn_prf(average, modifier, msg_start, len(result))\n"
     ]
    }
   ],
   "source": [
    "print(classification_report(y_test_transformed, prediction))"
   ]
  },
  {
   "cell_type": "markdown",
   "id": "579ccd85",
   "metadata": {},
   "source": [
    "# K-Means"
   ]
  },
  {
   "cell_type": "code",
   "execution_count": 298,
   "id": "e3cf83b5",
   "metadata": {},
   "outputs": [
    {
     "data": {
      "text/plain": [
       "8"
      ]
     },
     "execution_count": 298,
     "metadata": {},
     "output_type": "execute_result"
    }
   ],
   "source": [
    "kmeans = KMeans().fit(X_train)\n",
    "labels = kmeans.labels_\n",
    "labels_unique = np.unique(labels)\n",
    "n_clusters_ = len(labels_unique)\n",
    "n_clusters_"
   ]
  },
  {
   "cell_type": "markdown",
   "id": "7966de3a",
   "metadata": {},
   "source": [
    "Bad sign that it found 8 clusters. We force it to only use 3 instead."
   ]
  },
  {
   "cell_type": "code",
   "execution_count": 299,
   "id": "5534a8ec",
   "metadata": {},
   "outputs": [
    {
     "data": {
      "text/plain": [
       "3"
      ]
     },
     "execution_count": 299,
     "metadata": {},
     "output_type": "execute_result"
    }
   ],
   "source": [
    "kmeans = KMeans(n_clusters=3).fit(X_train)\n",
    "labels = kmeans.labels_\n",
    "labels_unique = np.unique(labels)\n",
    "n_clusters_ = len(labels_unique)\n",
    "n_clusters_"
   ]
  },
  {
   "cell_type": "code",
   "execution_count": 300,
   "id": "a710fdc1",
   "metadata": {},
   "outputs": [
    {
     "name": "stdout",
     "output_type": "stream",
     "text": [
      "0.43333333333333335\n"
     ]
    }
   ],
   "source": [
    "prediction = kmeans.predict(X_train)\n",
    "print(accuracy_score(y_train_transformed, prediction))"
   ]
  },
  {
   "cell_type": "code",
   "execution_count": 301,
   "id": "dcd3eb51",
   "metadata": {},
   "outputs": [
    {
     "name": "stdout",
     "output_type": "stream",
     "text": [
      "[[40  0  0]\n",
      " [ 0  2 38]\n",
      " [ 0 30 10]]\n"
     ]
    }
   ],
   "source": [
    "print(confusion_matrix(y_train_transformed, prediction))"
   ]
  },
  {
   "cell_type": "code",
   "execution_count": 328,
   "id": "206a5ef2",
   "metadata": {},
   "outputs": [
    {
     "name": "stdout",
     "output_type": "stream",
     "text": [
      "0.4666666666666667\n"
     ]
    }
   ],
   "source": [
    "prediction = kmeans.predict(X_test)\n",
    "print(accuracy_score(y_test_transformed, prediction))"
   ]
  },
  {
   "cell_type": "code",
   "execution_count": 329,
   "id": "4f0dd88c",
   "metadata": {},
   "outputs": [
    {
     "name": "stdout",
     "output_type": "stream",
     "text": [
      "[[10  0  0]\n",
      " [ 0  0 10]\n",
      " [ 0  6  4]]\n"
     ]
    }
   ],
   "source": [
    "print(confusion_matrix(y_test_transformed, prediction))"
   ]
  },
  {
   "cell_type": "code",
   "execution_count": 330,
   "id": "ee20e079",
   "metadata": {},
   "outputs": [
    {
     "name": "stdout",
     "output_type": "stream",
     "text": [
      "              precision    recall  f1-score   support\n",
      "\n",
      "           0       1.00      1.00      1.00        10\n",
      "           1       0.00      0.00      0.00        10\n",
      "           2       0.29      0.40      0.33        10\n",
      "\n",
      "    accuracy                           0.47        30\n",
      "   macro avg       0.43      0.47      0.44        30\n",
      "weighted avg       0.43      0.47      0.44        30\n",
      "\n"
     ]
    }
   ],
   "source": [
    "print(classification_report(y_test_transformed, prediction))"
   ]
  },
  {
   "cell_type": "markdown",
   "id": "4cdb6f61",
   "metadata": {},
   "source": [
    "# Result summary\n",
    "\n",
    "### Naive Bayes: 97%\n",
    "### Decision Tree: 97%\n",
    "### Random Forest: 97%\n",
    "### Mean Shift: 13%\n",
    "### DBSCAN: 23%\n",
    "### K-Means: 47%"
   ]
  }
 ],
 "metadata": {
  "kernelspec": {
   "display_name": "Python 3 (ipykernel)",
   "language": "python",
   "name": "python3"
  },
  "language_info": {
   "codemirror_mode": {
    "name": "ipython",
    "version": 3
   },
   "file_extension": ".py",
   "mimetype": "text/x-python",
   "name": "python",
   "nbconvert_exporter": "python",
   "pygments_lexer": "ipython3",
   "version": "3.9.7"
  }
 },
 "nbformat": 4,
 "nbformat_minor": 5
}
